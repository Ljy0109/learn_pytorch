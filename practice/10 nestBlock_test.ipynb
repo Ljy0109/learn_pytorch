{
 "cells": [
  {
   "cell_type": "code",
   "execution_count": 1,
   "id": "a947fb4a",
   "metadata": {},
   "outputs": [
    {
     "name": "stdout",
     "output_type": "stream",
     "text": [
      "net[2] = Linear(in_features=8, out_features=1, bias=True)\n",
      "\n",
      "(type1) parameters of net[2] = \n",
      "OrderedDict([('weight', tensor([[ 0.1817,  0.3373,  0.3012,  0.2410, -0.0991,  0.0995,  0.2379,  0.3029]])), ('bias', tensor([-0.0143]))])\n",
      "\n",
      "(type2) parameters of net[2] = \n",
      "OrderedDict([('weight', Parameter containing:\n",
      "tensor([[ 0.1817,  0.3373,  0.3012,  0.2410, -0.0991,  0.0995,  0.2379,  0.3029]],\n",
      "       requires_grad=True)), ('bias', Parameter containing:\n",
      "tensor([-0.0143], requires_grad=True))])\n",
      "\n"
     ]
    }
   ],
   "source": [
    "\"\"\"\n",
    "对于嵌套块的测试，以及对于参数访问的测试\n",
    "\"\"\"\n",
    "import torch\n",
    "from torch import nn\n",
    "\n",
    "net = nn.Sequential(\n",
    "    nn.Linear(4, 8),\n",
    "    nn.ReLU(),\n",
    "    nn.Linear(8, 1)\n",
    ")\n",
    "x = torch.randn(size=(2, 4))\n",
    "net(x)\n",
    "print(\"net[2] = {}\\n\".format(net[2]))\n",
    "print(\"(type1) parameters of net[2] = \\n{}\\n\".format(net[2].state_dict()))\n",
    "print(\"(type2) parameters of net[2] = \\n{}\\n\".format(net[2]._parameters))"
   ]
  },
  {
   "cell_type": "code",
   "execution_count": null,
   "id": "b01b93d9",
   "metadata": {},
   "outputs": [],
   "source": []
  }
 ],
 "metadata": {
  "kernelspec": {
   "display_name": "Python [conda env:pytorch] *",
   "language": "python",
   "name": "conda-env-pytorch-py"
  },
  "language_info": {
   "codemirror_mode": {
    "name": "ipython",
    "version": 3
   },
   "file_extension": ".py",
   "mimetype": "text/x-python",
   "name": "python",
   "nbconvert_exporter": "python",
   "pygments_lexer": "ipython3",
   "version": "3.9.16"
  }
 },
 "nbformat": 4,
 "nbformat_minor": 5
}
